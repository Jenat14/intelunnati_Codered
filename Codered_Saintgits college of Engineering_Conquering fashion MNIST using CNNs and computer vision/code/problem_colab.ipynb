{
  "cells": [
    {
      "cell_type": "code",
      "execution_count": null,
      "metadata": {
        "colab": {
          "base_uri": "https://localhost:8080/"
        },
        "id": "PTQVspPUh3k7",
        "outputId": "03a0d613-9f1c-46e7-bd21-84000166f1be"
      },
      "outputs": [
        {
          "output_type": "stream",
          "name": "stdout",
          "text": [
            "Cloning into 'openvino'...\n",
            "remote: Enumerating objects: 366298, done.\u001b[K\n",
            "remote: Counting objects: 100% (918/918), done.\u001b[K\n",
            "remote: Compressing objects: 100% (771/771), done.\u001b[K\n",
            "remote: Total 366298 (delta 342), reused 409 (delta 141), pack-reused 365380\u001b[K\n",
            "Receiving objects: 100% (366298/366298), 279.39 MiB | 14.29 MiB/s, done.\n",
            "Resolving deltas: 100% (282065/282065), done.\n",
            "Updating files: 100% (17084/17084), done.\n",
            "Filtering content: 100% (799/799), 261.23 MiB | 44.82 MiB/s, done.\n",
            "/bin/bash: line 0: cd: openvino/model-optimizer/install_prerequisites/: No such file or directory\n"
          ]
        }
      ],
      "source": [
        "!git clone https://github.com/openvinotoolkit/openvino\n",
        "!cd openvino/model-optimizer/install_prerequisites/ && ./install_prerequisites.sh tf2"
      ]
    },
    {
      "cell_type": "code",
      "source": [
        "!python3 -m pip install openvino-dev"
      ],
      "metadata": {
        "colab": {
          "base_uri": "https://localhost:8080/"
        },
        "id": "g-7Cm9znC44W",
        "outputId": "7e453585-0ea2-42e1-d158-eda44eb269d1"
      },
      "execution_count": null,
      "outputs": [
        {
          "output_type": "stream",
          "name": "stdout",
          "text": [
            "Collecting openvino-dev\n",
            "  Downloading openvino_dev-2023.0.1-11005-py3-none-any.whl (5.9 MB)\n",
            "\u001b[2K     \u001b[90m━━━━━━━━━━━━━━━━━━━━━━━━━━━━━━━━━━━━━━━━\u001b[0m \u001b[32m5.9/5.9 MB\u001b[0m \u001b[31m31.7 MB/s\u001b[0m eta \u001b[36m0:00:00\u001b[0m\n",
            "\u001b[?25hCollecting addict>=2.4.0 (from openvino-dev)\n",
            "  Downloading addict-2.4.0-py3-none-any.whl (3.8 kB)\n",
            "Requirement already satisfied: defusedxml>=0.7.1 in /usr/local/lib/python3.10/dist-packages (from openvino-dev) (0.7.1)\n",
            "Collecting jstyleson>=0.0.2 (from openvino-dev)\n",
            "  Downloading jstyleson-0.0.2.tar.gz (2.0 kB)\n",
            "  Preparing metadata (setup.py) ... \u001b[?25l\u001b[?25hdone\n",
            "Collecting networkx<=2.8.8 (from openvino-dev)\n",
            "  Downloading networkx-2.8.8-py3-none-any.whl (2.0 MB)\n",
            "\u001b[2K     \u001b[90m━━━━━━━━━━━━━━━━━━━━━━━━━━━━━━━━━━━━━━━━\u001b[0m \u001b[32m2.0/2.0 MB\u001b[0m \u001b[31m42.2 MB/s\u001b[0m eta \u001b[36m0:00:00\u001b[0m\n",
            "\u001b[?25hRequirement already satisfied: numpy>=1.16.6 in /usr/local/lib/python3.10/dist-packages (from openvino-dev) (1.22.4)\n",
            "Requirement already satisfied: opencv-python in /usr/local/lib/python3.10/dist-packages (from openvino-dev) (4.7.0.72)\n",
            "Collecting openvino-telemetry>=2022.1.0 (from openvino-dev)\n",
            "  Downloading openvino_telemetry-2023.0.0-py3-none-any.whl (20 kB)\n",
            "Requirement already satisfied: pillow>=8.1.2 in /usr/local/lib/python3.10/dist-packages (from openvino-dev) (8.4.0)\n",
            "Requirement already satisfied: pyyaml>=5.4.1 in /usr/local/lib/python3.10/dist-packages (from openvino-dev) (6.0)\n",
            "Requirement already satisfied: requests>=2.25.1 in /usr/local/lib/python3.10/dist-packages (from openvino-dev) (2.27.1)\n",
            "Collecting texttable>=1.6.3 (from openvino-dev)\n",
            "  Downloading texttable-1.6.7-py2.py3-none-any.whl (10 kB)\n",
            "Requirement already satisfied: tqdm>=4.54.1 in /usr/local/lib/python3.10/dist-packages (from openvino-dev) (4.65.0)\n",
            "Collecting openvino==2023.0.1 (from openvino-dev)\n",
            "  Downloading openvino-2023.0.1-11005-cp310-cp310-manylinux2014_x86_64.whl (36.8 MB)\n",
            "\u001b[2K     \u001b[90m━━━━━━━━━━━━━━━━━━━━━━━━━━━━━━━━━━━━━━━━\u001b[0m \u001b[32m36.8/36.8 MB\u001b[0m \u001b[31m18.1 MB/s\u001b[0m eta \u001b[36m0:00:00\u001b[0m\n",
            "\u001b[?25hRequirement already satisfied: scipy>=1.8 in /usr/local/lib/python3.10/dist-packages (from openvino-dev) (1.10.1)\n",
            "Requirement already satisfied: urllib3<1.27,>=1.21.1 in /usr/local/lib/python3.10/dist-packages (from requests>=2.25.1->openvino-dev) (1.26.16)\n",
            "Requirement already satisfied: certifi>=2017.4.17 in /usr/local/lib/python3.10/dist-packages (from requests>=2.25.1->openvino-dev) (2023.5.7)\n",
            "Requirement already satisfied: charset-normalizer~=2.0.0 in /usr/local/lib/python3.10/dist-packages (from requests>=2.25.1->openvino-dev) (2.0.12)\n",
            "Requirement already satisfied: idna<4,>=2.5 in /usr/local/lib/python3.10/dist-packages (from requests>=2.25.1->openvino-dev) (3.4)\n",
            "Building wheels for collected packages: jstyleson\n",
            "  Building wheel for jstyleson (setup.py) ... \u001b[?25l\u001b[?25hdone\n",
            "  Created wheel for jstyleson: filename=jstyleson-0.0.2-py3-none-any.whl size=2384 sha256=084568e435e2772e4c25f9ad54723969b8f93f09018c6e94175dd28f5fb1d69b\n",
            "  Stored in directory: /root/.cache/pip/wheels/12/51/c6/a1e751db88203e11c6d9ffe4683ca3d8c14b1479639bec1006\n",
            "Successfully built jstyleson\n",
            "Installing collected packages: texttable, openvino-telemetry, jstyleson, addict, openvino, networkx, openvino-dev\n",
            "  Attempting uninstall: networkx\n",
            "    Found existing installation: networkx 3.1\n",
            "    Uninstalling networkx-3.1:\n",
            "      Successfully uninstalled networkx-3.1\n",
            "Successfully installed addict-2.4.0 jstyleson-0.0.2 networkx-2.8.8 openvino-2023.0.1 openvino-dev-2023.0.1 openvino-telemetry-2023.0.0 texttable-1.6.7\n"
          ]
        }
      ]
    },
    {
      "cell_type": "code",
      "execution_count": null,
      "metadata": {
        "id": "ZW3PV12FNjrm"
      },
      "outputs": [],
      "source": [
        "import os\n",
        "os.environ['TF_ENABLE_ONEDNN_OPTS'] = '1'\n",
        "\n",
        "#import required libraries\n",
        "import tensorflow as tf\n",
        "from tensorflow import keras\n",
        "from tensorflow.keras import layers\n",
        "from tensorflow.keras import regularizers\n",
        "import numpy as np\n",
        "import matplotlib.pyplot as plb\n",
        "from tensorflow.keras.models import load_model\n",
        "from sklearn.metrics import confusion_matrix, classification_report"
      ]
    },
    {
      "cell_type": "code",
      "execution_count": null,
      "metadata": {
        "colab": {
          "base_uri": "https://localhost:8080/"
        },
        "id": "lExyHvGXQinN",
        "outputId": "fa88a948-8546-447b-abb9-89b93c6e76d9"
      },
      "outputs": [
        {
          "output_type": "stream",
          "name": "stdout",
          "text": [
            "Downloading data from https://storage.googleapis.com/tensorflow/tf-keras-datasets/train-labels-idx1-ubyte.gz\n",
            "29515/29515 [==============================] - 0s 0us/step\n",
            "Downloading data from https://storage.googleapis.com/tensorflow/tf-keras-datasets/train-images-idx3-ubyte.gz\n",
            "26421880/26421880 [==============================] - 0s 0us/step\n",
            "Downloading data from https://storage.googleapis.com/tensorflow/tf-keras-datasets/t10k-labels-idx1-ubyte.gz\n",
            "5148/5148 [==============================] - 0s 0us/step\n",
            "Downloading data from https://storage.googleapis.com/tensorflow/tf-keras-datasets/t10k-images-idx3-ubyte.gz\n",
            "4422102/4422102 [==============================] - 0s 0us/step\n",
            "Train data: (60000, 28, 28)\n",
            "Test data: (10000, 28, 28)\n"
          ]
        }
      ],
      "source": [
        "#load fashion MNIST dataset\n",
        "fashion_mnist=keras.datasets.fashion_mnist\n",
        "#load and preprocess data\n",
        "(traind,trainl),(testd,testl)=fashion_mnist.load_data()\n",
        "#printing details of the dataset\n",
        "print(\"Train data:\",traind.shape)\n",
        "print(\"Test data:\",testd.shape)"
      ]
    },
    {
      "cell_type": "code",
      "execution_count": null,
      "metadata": {
        "colab": {
          "base_uri": "https://localhost:8080/"
        },
        "id": "ttKdMEHsQm2r",
        "outputId": "378667ff-8a54-4767-a4ba-3b649d11392e"
      },
      "outputs": [
        {
          "output_type": "stream",
          "name": "stdout",
          "text": [
            "Model: \"sequential\"\n",
            "_________________________________________________________________\n",
            " Layer (type)                Output Shape              Param #   \n",
            "=================================================================\n",
            " conv2d (Conv2D)             (None, 26, 26, 32)        320       \n",
            "                                                                 \n",
            " max_pooling2d (MaxPooling2D  (None, 13, 13, 32)       0         \n",
            " )                                                               \n",
            "                                                                 \n",
            " dropout (Dropout)           (None, 13, 13, 32)        0         \n",
            "                                                                 \n",
            " conv2d_1 (Conv2D)           (None, 11, 11, 64)        18496     \n",
            "                                                                 \n",
            " max_pooling2d_1 (MaxPooling  (None, 5, 5, 64)         0         \n",
            " 2D)                                                             \n",
            "                                                                 \n",
            " dropout_1 (Dropout)         (None, 5, 5, 64)          0         \n",
            "                                                                 \n",
            " conv2d_2 (Conv2D)           (None, 3, 3, 128)         73856     \n",
            "                                                                 \n",
            " flatten (Flatten)           (None, 1152)              0         \n",
            "                                                                 \n",
            " dense (Dense)               (None, 256)               295168    \n",
            "                                                                 \n",
            " dropout_2 (Dropout)         (None, 256)               0         \n",
            "                                                                 \n",
            " dense_1 (Dense)             (None, 256)               65792     \n",
            "                                                                 \n",
            " dropout_3 (Dropout)         (None, 256)               0         \n",
            "                                                                 \n",
            " dense_2 (Dense)             (None, 512)               131584    \n",
            "                                                                 \n",
            " dense_3 (Dense)             (None, 10)                5130      \n",
            "                                                                 \n",
            "=================================================================\n",
            "Total params: 590,346\n",
            "Trainable params: 590,346\n",
            "Non-trainable params: 0\n",
            "_________________________________________________________________\n"
          ]
        }
      ],
      "source": [
        "model = keras.Sequential()\n",
        "\n",
        "# Convolutional layers\n",
        "model.add(layers.Conv2D(32, kernel_size=(3, 3), activation='relu', input_shape=(28, 28, 1)))\n",
        "model.add(layers.MaxPooling2D(pool_size=(2, 2)))\n",
        "model.add(layers.Dropout(0.2))\n",
        "model.add(layers.Conv2D(64, kernel_size=(3, 3), activation='relu'))\n",
        "model.add(layers.MaxPooling2D(pool_size=(2, 2)))\n",
        "model.add(layers.Dropout(0.2))\n",
        "model.add(layers.Conv2D(128, kernel_size=(3, 3), activation='leaky_relu'))\n",
        "\n",
        "# Flatten the feature maps\n",
        "model.add(layers.Flatten())\n",
        "\n",
        "# Dense layers\n",
        "model.add(layers.Dense(256, activation='relu'))\n",
        "model.add(layers.Dropout(0.1))\n",
        "model.add(layers.Dense(256, activation='relu'))\n",
        "model.add(layers.Dropout(0.1))\n",
        "model.add(layers.Dense(512, activation='relu'))\n",
        "model.add(layers.Dense(10, activation='softmax'))\n",
        "\n",
        "model.summary()"
      ]
    },
    {
      "cell_type": "code",
      "execution_count": null,
      "metadata": {
        "colab": {
          "base_uri": "https://localhost:8080/"
        },
        "id": "ELjbY3isQpF4",
        "outputId": "a0931305-0e60-4ab3-ed81-5c7a355f4248"
      },
      "outputs": [
        {
          "output_type": "stream",
          "name": "stdout",
          "text": [
            "Epoch 1/15\n",
            "400/400 [==============================] - 71s 169ms/step - loss: 0.7728 - accuracy: 0.7405 - val_loss: 0.4993 - val_accuracy: 0.8106\n",
            "Epoch 2/15\n",
            "400/400 [==============================] - 60s 151ms/step - loss: 0.4277 - accuracy: 0.8440 - val_loss: 0.3766 - val_accuracy: 0.8644\n",
            "Epoch 3/15\n",
            "400/400 [==============================] - 61s 153ms/step - loss: 0.3649 - accuracy: 0.8662 - val_loss: 0.3526 - val_accuracy: 0.8738\n",
            "Epoch 4/15\n",
            "400/400 [==============================] - 61s 152ms/step - loss: 0.3362 - accuracy: 0.8763 - val_loss: 0.3334 - val_accuracy: 0.8814\n",
            "Epoch 5/15\n",
            "400/400 [==============================] - 65s 163ms/step - loss: 0.3158 - accuracy: 0.8838 - val_loss: 0.3080 - val_accuracy: 0.8879\n",
            "Epoch 6/15\n",
            "400/400 [==============================] - 63s 158ms/step - loss: 0.2998 - accuracy: 0.8886 - val_loss: 0.3279 - val_accuracy: 0.8782\n",
            "Epoch 7/15\n",
            "400/400 [==============================] - 64s 160ms/step - loss: 0.2874 - accuracy: 0.8938 - val_loss: 0.2896 - val_accuracy: 0.8956\n",
            "Epoch 8/15\n",
            "400/400 [==============================] - 61s 152ms/step - loss: 0.2718 - accuracy: 0.9000 - val_loss: 0.2841 - val_accuracy: 0.8969\n",
            "Epoch 9/15\n",
            "400/400 [==============================] - 64s 160ms/step - loss: 0.2644 - accuracy: 0.9023 - val_loss: 0.2707 - val_accuracy: 0.9028\n",
            "Epoch 10/15\n",
            "400/400 [==============================] - 61s 153ms/step - loss: 0.2536 - accuracy: 0.9052 - val_loss: 0.2824 - val_accuracy: 0.8997\n",
            "Epoch 11/15\n",
            "400/400 [==============================] - 61s 152ms/step - loss: 0.2443 - accuracy: 0.9078 - val_loss: 0.2742 - val_accuracy: 0.9050\n",
            "Epoch 12/15\n",
            "400/400 [==============================] - 61s 152ms/step - loss: 0.2405 - accuracy: 0.9097 - val_loss: 0.2644 - val_accuracy: 0.9053\n",
            "Epoch 13/15\n",
            "400/400 [==============================] - 69s 174ms/step - loss: 0.2372 - accuracy: 0.9121 - val_loss: 0.2819 - val_accuracy: 0.8988\n",
            "Epoch 14/15\n",
            "400/400 [==============================] - 60s 151ms/step - loss: 0.2334 - accuracy: 0.9136 - val_loss: 0.2818 - val_accuracy: 0.8974\n",
            "Epoch 15/15\n",
            "400/400 [==============================] - 61s 153ms/step - loss: 0.2248 - accuracy: 0.9165 - val_loss: 0.2598 - val_accuracy: 0.9084\n",
            "Test accuracy: 0.9083999991416931\n"
          ]
        }
      ],
      "source": [
        "#compiling the model\n",
        "model.compile(optimizer = 'adam',loss='sparse_categorical_crossentropy',\n",
        "              metrics=['accuracy'])\n",
        "#training the model\n",
        "history=model.fit(traind, trainl, epochs=15, batch_size=150, verbose=1, validation_data=(testd, testl))\n",
        "#evaluating the model\n",
        "test_loss,test_accuracy = model.evaluate(testd,testl,verbose = 0)\n",
        "print(\"Test accuracy:\",test_accuracy)"
      ]
    },
    {
      "cell_type": "code",
      "execution_count": null,
      "metadata": {
        "colab": {
          "base_uri": "https://localhost:8080/",
          "height": 472
        },
        "id": "dgEBs5MGQsrq",
        "outputId": "0dc65f83-6fe1-47b3-98f0-06ffd4c4c641"
      },
      "outputs": [
        {
          "output_type": "display_data",
          "data": {
            "text/plain": [
              "<Figure size 640x480 with 1 Axes>"
            ],
            "image/png": "[encoded data removed]"
          },
          "metadata": {}
        }
      ],
      "source": [
        "# Accuracy vs Epoch plot\n",
        "plb.plot(history.history['accuracy'])\n",
        "plb.plot(history.history['val_accuracy'])\n",
        "plb.title('Model Accuracy')\n",
        "plb.ylabel('Accuracy')\n",
        "plb.xlabel('epoch')\n",
        "plb.legend(['train', 'val','test'], loc='upper left')\n",
        "plb.show()"
      ]
    },
    {
      "cell_type": "code",
      "execution_count": null,
      "metadata": {
        "id": "md4G8g17QzDi",
        "colab": {
          "base_uri": "https://localhost:8080/"
        },
        "outputId": "7fc7947b-148a-4d74-fd21-841238c281ee"
      },
      "outputs": [
        {
          "output_type": "stream",
          "name": "stdout",
          "text": [
            "313/313 [==============================] - 4s 14ms/step\n",
            "predictions: [9 2 1 ... 8 1 5]\n"
          ]
        }
      ],
      "source": [
        "# Make predictions\n",
        "predictions = model.predict(testd)\n",
        "predicted_labels=np.argmax(predictions, axis=1)\n",
        "print(\"predictions:\",predicted_labels)"
      ]
    },
    {
      "cell_type": "code",
      "source": [
        "model.save('model.h5')"
      ],
      "metadata": {
        "id": "3pKZMNax_PH2"
      },
      "execution_count": null,
      "outputs": []
    },
    {
      "cell_type": "code",
      "execution_count": null,
      "metadata": {
        "id": "JpsJ0ISwQ11O",
        "colab": {
          "base_uri": "https://localhost:8080/"
        },
        "outputId": "9b7ea82f-ba3c-4a6f-c98e-24e30ffe4299"
      },
      "outputs": [
        {
          "output_type": "stream",
          "name": "stdout",
          "text": [
            "prediction  target\n",
            "9 9\n",
            "2 2\n",
            "1 1\n",
            "1 1\n",
            "0 6\n",
            "1 1\n",
            "4 4\n",
            "6 6\n",
            "5 5\n",
            "7 7\n",
            "4 4\n",
            "5 5\n",
            "7 7\n",
            "3 3\n",
            "4 4\n",
            "1 1\n",
            "2 2\n",
            "4 4\n",
            "8 8\n",
            "0 0\n",
            "2 2\n",
            "5 5\n",
            "7 7\n",
            "5 9\n",
            "1 1\n",
            "2 4\n",
            "6 6\n",
            "0 0\n",
            "9 9\n",
            "4 3\n",
            "8 8\n",
            "8 8\n",
            "3 3\n",
            "3 3\n",
            "8 8\n",
            "0 0\n",
            "7 7\n",
            "5 5\n",
            "7 7\n",
            "9 9\n",
            "6 6\n",
            "1 1\n",
            "6 3\n",
            "9 7\n",
            "4 6\n",
            "7 7\n",
            "2 2\n",
            "1 1\n",
            "2 2\n",
            "6 2\n"
          ]
        }
      ],
      "source": [
        "#printing the predictions\n",
        "print(\"prediction  target\")\n",
        "for x in np.arange(50):\n",
        "    print(predicted_labels[x],testl[x])"
      ]
    },
    {
      "cell_type": "code",
      "execution_count": null,
      "metadata": {
        "id": "AxiiAAnfQ7kJ",
        "colab": {
          "base_uri": "https://localhost:8080/"
        },
        "outputId": "948de3ad-6165-41a0-e3fb-ec564ee9a6ce"
      },
      "outputs": [
        {
          "output_type": "stream",
          "name": "stdout",
          "text": [
            "Confusion Matrix:\n",
            "[[844   4  15  23   5   2  99   0   8   0]\n",
            " [  0 982   1  14   1   0   0   0   2   0]\n",
            " [ 18   0 849   9  76   0  48   0   0   0]\n",
            " [  9   3  10 933  22   0  23   0   0   0]\n",
            " [  2   0  32  32 876   0  57   0   1   0]\n",
            " [  0   0   0   0   0 991   0   7   1   1]\n",
            " [ 99   0  85  27  87   0 698   0   4   0]\n",
            " [  0   0   0   0   0  11   0 965   0  24]\n",
            " [  0   0   2   5   2   3   2   0 985   1]\n",
            " [  1   0   0   0   0   7   0  31   0 961]]\n",
            "\n",
            "Classification Report:\n",
            "              precision    recall  f1-score   support\n",
            "\n",
            "           0       0.87      0.84      0.86      1000\n",
            "           1       0.99      0.98      0.99      1000\n",
            "           2       0.85      0.85      0.85      1000\n",
            "           3       0.89      0.93      0.91      1000\n",
            "           4       0.82      0.88      0.85      1000\n",
            "           5       0.98      0.99      0.98      1000\n",
            "           6       0.75      0.70      0.72      1000\n",
            "           7       0.96      0.96      0.96      1000\n",
            "           8       0.98      0.98      0.98      1000\n",
            "           9       0.97      0.96      0.97      1000\n",
            "\n",
            "    accuracy                           0.91     10000\n",
            "   macro avg       0.91      0.91      0.91     10000\n",
            "weighted avg       0.91      0.91      0.91     10000\n",
            "\n"
          ]
        }
      ],
      "source": [
        "cm = confusion_matrix(testl, predicted_labels)\n",
        "\n",
        "# Calculate classification report\n",
        "report = classification_report(testl, predicted_labels)\n",
        "\n",
        "print(\"Confusion Matrix:\")\n",
        "print(cm)\n",
        "print(\"\\nClassification Report:\")\n",
        "print(report)"
      ]
    },
    {
      "cell_type": "code",
      "execution_count": null,
      "metadata": {
        "colab": {
          "base_uri": "https://localhost:8080/"
        },
        "id": "zdTa0Pnu19SK",
        "outputId": "214fe5de-08d5-4069-d417-4aa9a9c9d650"
      },
      "outputs": [
        {
          "output_type": "stream",
          "name": "stderr",
          "text": [
            "WARNING:absl:Found untraced functions such as _jit_compiled_convolution_op, _jit_compiled_convolution_op, _jit_compiled_convolution_op, _update_step_xla while saving (showing 4 of 4). These functions will not be directly callable after loading.\n"
          ]
        }
      ],
      "source": [
        "import tensorflow as tf\n",
        "model = tf.keras.models.load_model('model.h5')\n",
        "tf.saved_model.save(model,'model')"
      ]
    },
    {
      "cell_type": "code",
      "execution_count": null,
      "metadata": {
        "id": "iHZ3Mqo82dOw",
        "colab": {
          "base_uri": "https://localhost:8080/"
        },
        "outputId": "17973389-9915-4864-d852-c51bfdfe34cc"
      },
      "outputs": [
        {
          "output_type": "stream",
          "name": "stdout",
          "text": [
            "[ INFO ] The model was converted to IR v11, the latest model format that corresponds to the source DL framework input/output format. While IR v11 is backwards compatible with OpenVINO Inference Engine API v1.0, please use API v2.0 (as of 2022.1) to take advantage of the latest improvements in IR v11.\n",
            "Find more information about API v2.0 and IR v11 at https://docs.openvino.ai/2023.0/openvino_2_0_transition_guide.html\n",
            "[ INFO ] IR generated by new TensorFlow Frontend is compatible only with API v2.0. Please make sure to use API v2.0.\n",
            "Find more information about new TensorFlow Frontend at https://docs.openvino.ai/2023.0/openvino_docs_MO_DG_TensorFlow_Frontend.html\n",
            "[ SUCCESS ] Generated IR version 11 model.\n",
            "[ SUCCESS ] XML file: /content/saved_model.xml\n",
            "[ SUCCESS ] BIN file: /content/saved_model.bin\n"
          ]
        }
      ],
      "source": [
        "!mo --saved_model_dir model"
      ]
    }
  ],
  "metadata": {
    "colab": {
      "provenance": []
    },
    "kernelspec": {
      "display_name": "Python 3",
      "name": "python3"
    },
    "language_info": {
      "name": "python"
    }
  },
  "nbformat": 4,
  "nbformat_minor": 0
}