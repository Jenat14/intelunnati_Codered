{
 "cells": [
  {
   "cell_type": "code",
   "execution_count": 1,
   "id": "eff1ba8a-b089-4fa3-8a1a-4665ce69800f",
   "metadata": {},
   "outputs": [
    {
     "name": "stdout",
     "output_type": "stream",
     "text": [
      "fatal: destination path 'openvino' already exists and is not an empty directory.\n"
     ]
    }
   ],
   "source": [
    "!git clone https://github.com/openvinotoolkit/openvino"
   ]
  },
  {
   "cell_type": "code",
   "execution_count": 2,
   "id": "e497666b-f97b-4619-9c85-49a9b91a7469",
   "metadata": {},
   "outputs": [
    {
     "name": "stdout",
     "output_type": "stream",
     "text": [
      "Defaulting to user installation because normal site-packages is not writeable\n",
      "\u001b[33mWARNING: Ignoring invalid distribution -rotobuf (/home/u194436/.local/lib/python3.9/site-packages)\u001b[0m\u001b[33m\n",
      "\u001b[0m\u001b[33mWARNING: Ignoring invalid distribution -rotobuf (/home/u194436/.local/lib/python3.9/site-packages)\u001b[0m\u001b[33m\n",
      "\u001b[0mRequirement already satisfied: openvino-dev in ./.local/lib/python3.9/site-packages (2023.0.0)\n",
      "Requirement already satisfied: addict>=2.4.0 in ./.local/lib/python3.9/site-packages (from openvino-dev) (2.4.0)\n",
      "Requirement already satisfied: defusedxml>=0.7.1 in ./.local/lib/python3.9/site-packages (from openvino-dev) (0.7.1)\n",
      "Requirement already satisfied: jstyleson>=0.0.2 in ./.local/lib/python3.9/site-packages (from openvino-dev) (0.0.2)\n",
      "Requirement already satisfied: networkx<=2.8.8 in ./.local/lib/python3.9/site-packages (from openvino-dev) (2.8.8)\n",
      "Requirement already satisfied: numpy>=1.16.6 in ./.local/lib/python3.9/site-packages (from openvino-dev) (1.22.4)\n",
      "Requirement already satisfied: opencv-python in ./.local/lib/python3.9/site-packages (from openvino-dev) (4.8.0.74)\n",
      "Requirement already satisfied: openvino-telemetry>=2022.1.0 in ./.local/lib/python3.9/site-packages (from openvino-dev) (2023.0.0)\n",
      "Requirement already satisfied: pillow>=8.1.2 in /glob/development-tools/versions/oneapi/2023.1.2/oneapi/intelpython/python3.9/lib/python3.9/site-packages (from openvino-dev) (9.5.0)\n",
      "Requirement already satisfied: pyyaml>=5.4.1 in /glob/development-tools/versions/oneapi/2023.1.2/oneapi/intelpython/python3.9/lib/python3.9/site-packages (from openvino-dev) (6.0)\n",
      "Requirement already satisfied: requests>=2.25.1 in /glob/development-tools/versions/oneapi/2023.1.2/oneapi/intelpython/python3.9/lib/python3.9/site-packages (from openvino-dev) (2.28.1)\n",
      "Requirement already satisfied: texttable>=1.6.3 in ./.local/lib/python3.9/site-packages (from openvino-dev) (1.6.7)\n",
      "Requirement already satisfied: tqdm>=4.54.1 in ./.local/lib/python3.9/site-packages (from openvino-dev) (4.65.0)\n",
      "Requirement already satisfied: openvino==2023.0.0 in ./.local/lib/python3.9/site-packages (from openvino-dev) (2023.0.0)\n",
      "Requirement already satisfied: scipy>=1.8 in ./.local/lib/python3.9/site-packages (from openvino-dev) (1.11.1)\n",
      "Requirement already satisfied: charset-normalizer<3,>=2 in /glob/development-tools/versions/oneapi/2023.1.2/oneapi/intelpython/python3.9/lib/python3.9/site-packages (from requests>=2.25.1->openvino-dev) (2.0.4)\n",
      "Requirement already satisfied: idna<4,>=2.5 in /glob/development-tools/versions/oneapi/2023.1.2/oneapi/intelpython/python3.9/lib/python3.9/site-packages (from requests>=2.25.1->openvino-dev) (3.4)\n",
      "Requirement already satisfied: urllib3<1.27,>=1.21.1 in /glob/development-tools/versions/oneapi/2023.1.2/oneapi/intelpython/python3.9/lib/python3.9/site-packages (from requests>=2.25.1->openvino-dev) (1.26.14)\n",
      "Requirement already satisfied: certifi>=2017.4.17 in /glob/development-tools/versions/oneapi/2023.1.2/oneapi/intelpython/python3.9/lib/python3.9/site-packages (from requests>=2.25.1->openvino-dev) (2022.12.7)\n",
      "\u001b[33mWARNING: Ignoring invalid distribution -rotobuf (/home/u194436/.local/lib/python3.9/site-packages)\u001b[0m\u001b[33m\n",
      "\u001b[0m\u001b[33mWARNING: Ignoring invalid distribution -rotobuf (/home/u194436/.local/lib/python3.9/site-packages)\u001b[0m\u001b[33m\n",
      "\u001b[0m"
     ]
    }
   ],
   "source": [
    "!python3 -m pip install openvino-dev"
   ]
  },
  {
   "cell_type": "code",
   "execution_count": 3,
   "id": "91e41476-730f-4140-ba14-d964ace75512",
   "metadata": {},
   "outputs": [
    {
     "name": "stderr",
     "output_type": "stream",
     "text": [
      "2023-07-14 08:54:25.421956: I tensorflow/core/platform/cpu_feature_guard.cc:182] This TensorFlow binary is optimized to use available CPU instructions in performance-critical operations.\n",
      "To enable the following instructions: AVX2 AVX512F FMA, in other operations, rebuild TensorFlow with the appropriate compiler flags.\n"
     ]
    }
   ],
   "source": [
    "import os\n",
    "os.environ['TF_ENABLE_ONEDNN_OPTS'] = '1'\n",
    "\n",
    "#import required libraries\n",
    "import tensorflow as tf\n",
    "from tensorflow import keras\n",
    "from tensorflow.keras import layers\n",
    "from tensorflow.keras import regularizers\n",
    "import numpy as np\n",
    "import matplotlib.pyplot as plb\n",
    "from tensorflow.keras.models import load_model\n",
    "from sklearn.metrics import confusion_matrix, classification_report"
   ]
  },
  {
   "cell_type": "code",
   "execution_count": 4,
   "id": "045a2ad9-184a-4fb1-b908-c5a06f66dfa5",
   "metadata": {},
   "outputs": [
    {
     "name": "stdout",
     "output_type": "stream",
     "text": [
      "Train data: (60000, 28, 28)\n",
      "Test data: (10000, 28, 28)\n"
     ]
    }
   ],
   "source": [
    "#load fashion MNIST dataset\n",
    "fashion_mnist=keras.datasets.fashion_mnist\n",
    "#load and preprocess data\n",
    "(traind,trainl),(testd,testl)=fashion_mnist.load_data()\n",
    "#printing details of the dataset\n",
    "print(\"Train data:\",traind.shape)\n",
    "print(\"Test data:\",testd.shape)"
   ]
  },
  {
   "cell_type": "code",
   "execution_count": 5,
   "id": "05eb0cec-839a-41f6-8afc-ebbc9c7c60b1",
   "metadata": {
    "tags": []
   },
   "outputs": [],
   "source": [
    "#scaling the pixel values\n",
    "traind=traind/255.0\n",
    "testd=testd/255.0"
   ]
  },
  {
   "cell_type": "code",
   "execution_count": 6,
   "id": "0d4e5f6c-446e-496f-8bce-6b49134b9c76",
   "metadata": {},
   "outputs": [
    {
     "name": "stdout",
     "output_type": "stream",
     "text": [
      "Model: \"sequential\"\n",
      "_________________________________________________________________\n",
      " Layer (type)                Output Shape              Param #   \n",
      "=================================================================\n",
      " conv2d (Conv2D)             (None, 26, 26, 32)        320       \n",
      "                                                                 \n",
      " max_pooling2d (MaxPooling2D  (None, 13, 13, 32)       0         \n",
      " )                                                               \n",
      "                                                                 \n",
      " dropout (Dropout)           (None, 13, 13, 32)        0         \n",
      "                                                                 \n",
      " conv2d_1 (Conv2D)           (None, 11, 11, 64)        18496     \n",
      "                                                                 \n",
      " max_pooling2d_1 (MaxPooling  (None, 5, 5, 64)         0         \n",
      " 2D)                                                             \n",
      "                                                                 \n",
      " dropout_1 (Dropout)         (None, 5, 5, 64)          0         \n",
      "                                                                 \n",
      " conv2d_2 (Conv2D)           (None, 3, 3, 128)         73856     \n",
      "                                                                 \n",
      " flatten (Flatten)           (None, 1152)              0         \n",
      "                                                                 \n",
      " dense (Dense)               (None, 256)               295168    \n",
      "                                                                 \n",
      " dropout_2 (Dropout)         (None, 256)               0         \n",
      "                                                                 \n",
      " dense_1 (Dense)             (None, 256)               65792     \n",
      "                                                                 \n",
      " dropout_3 (Dropout)         (None, 256)               0         \n",
      "                                                                 \n",
      " dense_2 (Dense)             (None, 512)               131584    \n",
      "                                                                 \n",
      " dense_3 (Dense)             (None, 10)                5130      \n",
      "                                                                 \n",
      "=================================================================\n",
      "Total params: 590,346\n",
      "Trainable params: 590,346\n",
      "Non-trainable params: 0\n",
      "_________________________________________________________________\n"
     ]
    },
    {
     "name": "stderr",
     "output_type": "stream",
     "text": [
      "2023-07-14 08:54:34.850744: I tensorflow/core/common_runtime/process_util.cc:146] Creating new thread pool with default inter op setting: \n"
     ]
    }
   ],
   "source": [
    "model = keras.Sequential()\n",
    "\n",
    "# Convolutional layers\n",
    "model.add(layers.Conv2D(32, kernel_size=(3, 3), activation='relu', input_shape=(28, 28, 1)))\n",
    "model.add(layers.MaxPooling2D(pool_size=(2, 2)))\n",
    "model.add(layers.Dropout(0.2))\n",
    "model.add(layers.Conv2D(64, kernel_size=(3, 3), activation='relu'))\n",
    "model.add(layers.MaxPooling2D(pool_size=(2, 2)))\n",
    "model.add(layers.Dropout(0.2))\n",
    "model.add(layers.Conv2D(128, kernel_size=(3, 3), activation='leaky_relu'))\n",
    "\n",
    "# Flatten the feature maps\n",
    "model.add(layers.Flatten())\n",
    "\n",
    "# Dense layers\n",
    "model.add(layers.Dense(256, activation='relu'))\n",
    "model.add(layers.Dropout(0.1))\n",
    "model.add(layers.Dense(256, activation='relu'))\n",
    "model.add(layers.Dropout(0.1))\n",
    "model.add(layers.Dense(512, activation='relu'))\n",
    "model.add(layers.Dense(10, activation='softmax'))\n",
    "\n",
    "model.summary()"
   ]
  },
  {
   "cell_type": "code",
   "execution_count": 7,
   "id": "cf0adbcd-4cfe-4b45-bc21-dbb4a7ea15fb",
   "metadata": {},
   "outputs": [
    {
     "name": "stdout",
     "output_type": "stream",
     "text": [
      "Epoch 1/15\n",
      "400/400 [==============================] - 43s 105ms/step - loss: 0.6437 - accuracy: 0.7538 - val_loss: 0.4351 - val_accuracy: 0.8359\n",
      "Epoch 2/15\n",
      "400/400 [==============================] - 40s 101ms/step - loss: 0.3864 - accuracy: 0.8570 - val_loss: 0.3425 - val_accuracy: 0.8730\n",
      "Epoch 3/15\n",
      "400/400 [==============================] - 40s 101ms/step - loss: 0.3287 - accuracy: 0.8792 - val_loss: 0.3114 - val_accuracy: 0.8878\n",
      "Epoch 4/15\n",
      "400/400 [==============================] - 40s 100ms/step - loss: 0.2982 - accuracy: 0.8889 - val_loss: 0.2785 - val_accuracy: 0.8994\n",
      "Epoch 5/15\n",
      "400/400 [==============================] - 39s 97ms/step - loss: 0.2761 - accuracy: 0.8982 - val_loss: 0.2748 - val_accuracy: 0.8981\n",
      "Epoch 6/15\n",
      "400/400 [==============================] - 39s 99ms/step - loss: 0.2584 - accuracy: 0.9036 - val_loss: 0.2638 - val_accuracy: 0.9017\n",
      "Epoch 7/15\n",
      "400/400 [==============================] - 41s 102ms/step - loss: 0.2466 - accuracy: 0.9071 - val_loss: 0.2504 - val_accuracy: 0.9085\n",
      "Epoch 8/15\n",
      "400/400 [==============================] - 39s 99ms/step - loss: 0.2312 - accuracy: 0.9143 - val_loss: 0.2452 - val_accuracy: 0.9103\n",
      "Epoch 9/15\n",
      "400/400 [==============================] - 41s 102ms/step - loss: 0.2288 - accuracy: 0.9135 - val_loss: 0.2410 - val_accuracy: 0.9116\n",
      "Epoch 10/15\n",
      "400/400 [==============================] - 41s 103ms/step - loss: 0.2139 - accuracy: 0.9199 - val_loss: 0.2514 - val_accuracy: 0.9067\n",
      "Epoch 11/15\n",
      "400/400 [==============================] - 41s 102ms/step - loss: 0.2090 - accuracy: 0.9213 - val_loss: 0.2392 - val_accuracy: 0.9143\n",
      "Epoch 12/15\n",
      "400/400 [==============================] - 39s 99ms/step - loss: 0.2022 - accuracy: 0.9261 - val_loss: 0.2402 - val_accuracy: 0.9139\n",
      "Epoch 13/15\n",
      "400/400 [==============================] - 40s 100ms/step - loss: 0.1954 - accuracy: 0.9266 - val_loss: 0.2516 - val_accuracy: 0.9108\n",
      "Epoch 14/15\n",
      "400/400 [==============================] - 40s 101ms/step - loss: 0.1870 - accuracy: 0.9291 - val_loss: 0.2565 - val_accuracy: 0.9121\n",
      "Epoch 15/15\n",
      "400/400 [==============================] - 40s 100ms/step - loss: 0.1844 - accuracy: 0.9303 - val_loss: 0.2363 - val_accuracy: 0.9170\n",
      "Test accuracy: 0.9169999957084656\n"
     ]
    }
   ],
   "source": [
    "#compiling the model \n",
    "model.compile(optimizer = 'adam',loss='sparse_categorical_crossentropy',\n",
    "              metrics=['accuracy'])\n",
    "#training the model\n",
    "history=model.fit(traind, trainl, epochs=15, batch_size=150, verbose=1, validation_data=(testd, testl))\n",
    "#evaluating the model\n",
    "test_loss,test_accuracy = model.evaluate(testd,testl,verbose = 0)\n",
    "print(\"Test accuracy:\",test_accuracy)"
   ]
  },
  {
   "cell_type": "code",
   "execution_count": 8,
   "id": "f2f8d14d-daa3-40eb-b0ba-465bddb908a4",
   "metadata": {},
   "outputs": [
    {
     "data": {
      "image/png": "[encoded data removed]",
      "text/plain": [
       "<Figure size 640x480 with 1 Axes>"
      ]
     },
     "metadata": {},
     "output_type": "display_data"
    }
   ],
   "source": [
    "# Accuracy vs Epoch plot\n",
    "plb.plot(history.history['accuracy'])\n",
    "plb.plot(history.history['val_accuracy'])\n",
    "plb.title('Model Accuracy')\n",
    "plb.ylabel('Accuracy')\n",
    "plb.xlabel('epoch')\n",
    "plb.legend(['train', 'val','test'], loc='upper left')\n",
    "plb.show()"
   ]
  },
  {
   "cell_type": "code",
   "execution_count": 9,
   "id": "6e301d2e-f5e8-4614-adf7-005143127a08",
   "metadata": {},
   "outputs": [],
   "source": [
    "# Save the model\n",
    "model.save(\"model.h5\")"
   ]
  },
  {
   "cell_type": "code",
   "execution_count": 10,
   "id": "65f32d72-9d42-4f6c-9aa5-9a242da05c74",
   "metadata": {},
   "outputs": [
    {
     "name": "stdout",
     "output_type": "stream",
     "text": [
      "313/313 [==============================] - 4s 11ms/step\n",
      "predictions: [9 2 1 ... 8 1 5]\n"
     ]
    }
   ],
   "source": [
    "# Make predictions\n",
    "predictions = model.predict(testd)\n",
    "predicted_labels=np.argmax(predictions, axis=1)\n",
    "print(\"predictions:\",predicted_labels)"
   ]
  },
  {
   "cell_type": "code",
   "execution_count": 11,
   "id": "b62808e8-b221-40ae-9bd2-06d349081ca1",
   "metadata": {},
   "outputs": [
    {
     "name": "stdout",
     "output_type": "stream",
     "text": [
      "prediction  target\n",
      "9 9\n",
      "2 2\n",
      "1 1\n",
      "1 1\n",
      "0 6\n",
      "1 1\n",
      "4 4\n",
      "6 6\n",
      "5 5\n",
      "7 7\n",
      "4 4\n",
      "5 5\n",
      "7 7\n",
      "3 3\n",
      "4 4\n",
      "1 1\n",
      "2 2\n",
      "4 4\n",
      "8 8\n",
      "0 0\n",
      "2 2\n",
      "5 5\n",
      "7 7\n",
      "5 9\n",
      "1 1\n",
      "4 4\n",
      "6 6\n",
      "0 0\n",
      "9 9\n",
      "3 3\n",
      "8 8\n",
      "8 8\n",
      "3 3\n",
      "3 3\n",
      "8 8\n",
      "0 0\n",
      "7 7\n",
      "5 5\n",
      "7 7\n",
      "9 9\n",
      "6 6\n",
      "1 1\n",
      "6 3\n",
      "9 7\n",
      "6 6\n",
      "7 7\n",
      "2 2\n",
      "1 1\n",
      "6 2\n",
      "6 2\n"
     ]
    }
   ],
   "source": [
    "#printing the predictions \n",
    "print(\"prediction  target\")\n",
    "for x in np.arange(50):\n",
    "    print(predicted_labels[x],testl[x])"
   ]
  },
  {
   "cell_type": "code",
   "execution_count": 12,
   "id": "aa488314-c139-457e-86e8-8432166fb7e3",
   "metadata": {},
   "outputs": [
    {
     "name": "stdout",
     "output_type": "stream",
     "text": [
      "Confusion Matrix:\n",
      "[[844   1  19  24   4   1 101   0   6   0]\n",
      " [  0 975   3  14   3   0   3   0   2   0]\n",
      " [ 14   0 858  11  63   0  54   0   0   0]\n",
      " [  5   5   5 939  21   0  25   0   0   0]\n",
      " [  0   1  23  27 874   0  75   0   0   0]\n",
      " [  0   0   0   0   0 982   0  16   0   2]\n",
      " [ 77   1  55  22  55   0 781   0   9   0]\n",
      " [  0   0   0   0   0   3   0 975   0  22]\n",
      " [  2   0   3   1   3   2   4   4 981   0]\n",
      " [  0   0   0   0   0   4   1  34   0 961]]\n",
      "\n",
      "Classification Report:\n",
      "              precision    recall  f1-score   support\n",
      "\n",
      "           0       0.90      0.84      0.87      1000\n",
      "           1       0.99      0.97      0.98      1000\n",
      "           2       0.89      0.86      0.87      1000\n",
      "           3       0.90      0.94      0.92      1000\n",
      "           4       0.85      0.87      0.86      1000\n",
      "           5       0.99      0.98      0.99      1000\n",
      "           6       0.75      0.78      0.76      1000\n",
      "           7       0.95      0.97      0.96      1000\n",
      "           8       0.98      0.98      0.98      1000\n",
      "           9       0.98      0.96      0.97      1000\n",
      "\n",
      "    accuracy                           0.92     10000\n",
      "   macro avg       0.92      0.92      0.92     10000\n",
      "weighted avg       0.92      0.92      0.92     10000\n",
      "\n"
     ]
    }
   ],
   "source": [
    "cm = confusion_matrix(testl, predicted_labels)\n",
    "\n",
    "# Calculate classification report\n",
    "report = classification_report(testl, predicted_labels)\n",
    "\n",
    "print(\"Confusion Matrix:\")\n",
    "print(cm)\n",
    "print(\"\\nClassification Report:\")\n",
    "print(report)"
   ]
  },
  {
   "cell_type": "code",
   "execution_count": 13,
   "id": "ef3b9527-833c-402a-a4f6-c0612242cd56",
   "metadata": {},
   "outputs": [
    {
     "name": "stderr",
     "output_type": "stream",
     "text": [
      "2023-07-14 09:06:12.377845: I tensorflow/core/common_runtime/executor.cc:1197] [/device:CPU:0] (DEBUG INFO) Executor start aborting (this does not indicate an error and you can ignore this message): INVALID_ARGUMENT: You must feed a value for placeholder tensor 'inputs' with dtype float and shape [?,13,13,32]\n",
      "\t [[{{node inputs}}]]\n",
      "2023-07-14 09:06:12.389438: I tensorflow/core/common_runtime/executor.cc:1197] [/device:CPU:0] (DEBUG INFO) Executor start aborting (this does not indicate an error and you can ignore this message): INVALID_ARGUMENT: You must feed a value for placeholder tensor 'inputs' with dtype float and shape [?,5,5,64]\n",
      "\t [[{{node inputs}}]]\n",
      "2023-07-14 09:06:12.407176: I tensorflow/core/common_runtime/executor.cc:1197] [/device:CPU:0] (DEBUG INFO) Executor start aborting (this does not indicate an error and you can ignore this message): INVALID_ARGUMENT: You must feed a value for placeholder tensor 'inputs' with dtype float and shape [?,256]\n",
      "\t [[{{node inputs}}]]\n",
      "2023-07-14 09:06:12.417859: I tensorflow/core/common_runtime/executor.cc:1197] [/device:CPU:0] (DEBUG INFO) Executor start aborting (this does not indicate an error and you can ignore this message): INVALID_ARGUMENT: You must feed a value for placeholder tensor 'inputs' with dtype float and shape [?,256]\n",
      "\t [[{{node inputs}}]]\n",
      "2023-07-14 09:06:12.741459: I tensorflow/core/common_runtime/executor.cc:1197] [/device:CPU:0] (DEBUG INFO) Executor start aborting (this does not indicate an error and you can ignore this message): INVALID_ARGUMENT: You must feed a value for placeholder tensor 'inputs' with dtype float and shape [?,13,13,32]\n",
      "\t [[{{node inputs}}]]\n",
      "2023-07-14 09:06:12.773376: I tensorflow/core/common_runtime/executor.cc:1197] [/device:CPU:0] (DEBUG INFO) Executor start aborting (this does not indicate an error and you can ignore this message): INVALID_ARGUMENT: You must feed a value for placeholder tensor 'inputs' with dtype float and shape [?,5,5,64]\n",
      "\t [[{{node inputs}}]]\n",
      "2023-07-14 09:06:12.814876: I tensorflow/core/common_runtime/executor.cc:1197] [/device:CPU:0] (DEBUG INFO) Executor start aborting (this does not indicate an error and you can ignore this message): INVALID_ARGUMENT: You must feed a value for placeholder tensor 'inputs' with dtype float and shape [?,256]\n",
      "\t [[{{node inputs}}]]\n",
      "2023-07-14 09:06:12.839833: I tensorflow/core/common_runtime/executor.cc:1197] [/device:CPU:0] (DEBUG INFO) Executor start aborting (this does not indicate an error and you can ignore this message): INVALID_ARGUMENT: You must feed a value for placeholder tensor 'inputs' with dtype float and shape [?,256]\n",
      "\t [[{{node inputs}}]]\n",
      "WARNING:absl:Found untraced functions such as _jit_compiled_convolution_op, _jit_compiled_convolution_op, _jit_compiled_convolution_op, _update_step_xla while saving (showing 4 of 4). These functions will not be directly callable after loading.\n"
     ]
    },
    {
     "name": "stdout",
     "output_type": "stream",
     "text": [
      "INFO:tensorflow:Assets written to: model/assets\n"
     ]
    },
    {
     "name": "stderr",
     "output_type": "stream",
     "text": [
      "INFO:tensorflow:Assets written to: model/assets\n"
     ]
    }
   ],
   "source": [
    "import tensorflow as tf\n",
    "model = tf.keras.models.load_model('model.h5')\n",
    "tf.saved_model.save(model,'model')"
   ]
  },
  {
   "cell_type": "code",
   "execution_count": 14,
   "id": "b33e7659-f347-4717-b2e3-0cf13d35a5bf",
   "metadata": {},
   "outputs": [
    {
     "name": "stdout",
     "output_type": "stream",
     "text": [
      "/bin/bash: mo: command not found\n"
     ]
    }
   ],
   "source": [
    "!mo --saved_model_dir model"
   ]
  },
  {
   "cell_type": "code",
   "execution_count": null,
   "id": "8e850fd2-24e9-4fa7-bfd6-a6b48e849c01",
   "metadata": {},
   "outputs": [],
   "source": []
  }
 ],
 "metadata": {
  "kernelspec": {
   "display_name": "Tensorflow (AI kit)",
   "language": "python",
   "name": "c009-intel_distribution_of_python_3_oneapi-beta05-tf"
  },
  "language_info": {
   "codemirror_mode": {
    "name": "ipython",
    "version": 3
   },
   "file_extension": ".py",
   "mimetype": "text/x-python",
   "name": "python",
   "nbconvert_exporter": "python",
   "pygments_lexer": "ipython3",
   "version": "3.9.16"
  }
 },
 "nbformat": 4,
 "nbformat_minor": 5
}
